{
 "metadata": {
  "name": "",
  "signature": "sha256:bce60b965e2b3c78e928ce49b2e0749321cb4d66baf149557ab1934abb393467"
 },
 "nbformat": 3,
 "nbformat_minor": 0,
 "worksheets": [
  {
   "cells": [
    {
     "cell_type": "code",
     "collapsed": false,
     "input": [
      "import dendropy\n",
      "import pandas as pd"
     ],
     "language": "python",
     "metadata": {},
     "outputs": [],
     "prompt_number": 30
    },
    {
     "cell_type": "code",
     "collapsed": false,
     "input": [
      "data = pd.read_csv('../Data/PyronParityData.csv', index_col=0, header=False)"
     ],
     "language": "python",
     "metadata": {},
     "outputs": [],
     "prompt_number": 31
    },
    {
     "cell_type": "code",
     "collapsed": false,
     "input": [
      "taxa = dendropy.TaxonSet()\n",
      "mle = dendropy.Tree.get_from_path('../2598364_1', 'newick', taxon_set=taxa, preserve_underscores=True) "
     ],
     "language": "python",
     "metadata": {},
     "outputs": [],
     "prompt_number": 32
    },
    {
     "cell_type": "code",
     "collapsed": false,
     "input": [
      "for idx, nd in enumerate(mle.leaf_iter()):\n",
      "    if nd.label is None:\n",
      "        lookup = '{}'.format(nd.taxon)\n",
      "        nd.label = int(data.ix[lookup])\n",
      "    else: \n",
      "        pass"
     ],
     "language": "python",
     "metadata": {},
     "outputs": [],
     "prompt_number": 33
    },
    {
     "cell_type": "code",
     "collapsed": true,
     "input": [
      "putative_c = [] #changes to viviparity\n",
      "putative_co = [] #reversions to oviparity\n",
      "total = []\n",
      "childs = []\n",
      "for index, node in enumerate(mle.preorder_node_iter()):\n",
      "    total.append(index) # print total to check that you have the right number of nodes in tree\n",
      "    if node.child_nodes() is None:\n",
      "        pass\n",
      "    elif 0.95 < float(node.label):    #Is likely oviparous\n",
      "         node.annotations.add_new(name = '!color', value = '#0000FF')\n",
      "         for child in node.child_nodes():\n",
      "                if 0.05 > float(child.label):\n",
      "                    node.annotations.add_new(name = '!color', value = '#ff0000')\n",
      "                    putative_c.append([node.label, child.label])\n",
      "                    if child.taxon:\n",
      "                        print 'origin', child.taxon\n",
      "                    else:\n",
      "                        for chil in child.child_nodes():\n",
      "                            if chil.taxon:\n",
      "                                print 'origin in clade', chil.taxon                    \n",
      "                else:\n",
      "                    if len(node.annotations) == 0:\n",
      "                        node.annotations.add_new(name = '!color', value = '#0000FF')\n",
      "                        \n",
      "    elif 0.05 > float(node.label):    #Is likely viviparous\n",
      "         node.annotations.add_new(name = '!color', value = '#ff0000') #Dark blue, zeroes\n",
      "         for child in node.child_nodes():\n",
      "                if 0.95 <= float(child.label):\n",
      "                    putative_co.append([node.label, child.label])\n",
      "                    node.annotations.add_new(name = '!color', value = '#0000FF') #Dark blue, zeroes\n",
      "                    if child.taxon:\n",
      "                        print 'reversal', child.taxon  \n",
      "                    else:\n",
      "                        for chil in child.child_nodes():                            \n",
      "                            if chil.taxon:\n",
      "                                print 'reversal in clade', chil.taxon\n",
      "                else:\n",
      "                    if len(node.annotations) == 0:\n",
      "                        node.annotations.add_new(name = '!color', value = '#ff0000')\n",
      "    elif 0.95 >float(node.label) > 0.05:\n",
      "         node.annotations.add_new(name = '!color', value = '#0000FF')\n",
      "        \n",
      "    \n",
      "print len(putative_co), 'reversions'\n",
      "print putative_co\n",
      "print len(putative_c), 'origins'\n",
      "print putative_c"
     ],
     "language": "python",
     "metadata": {},
     "outputs": [],
     "prompt_number": 35
    },
    {
     "cell_type": "markdown",
     "metadata": {},
     "source": [
      "mle"
     ]
    },
    {
     "cell_type": "code",
     "collapsed": false,
     "input": [
      "mle.write_to_path('colored', 'nexus', suppress_annotations = False, annotations_as_nhx=False,\n",
      "                  suppress_taxa_block=True,suppress_internal_taxon_labels=True)"
     ],
     "language": "python",
     "metadata": {},
     "outputs": [],
     "prompt_number": 53
    },
    {
     "cell_type": "code",
     "collapsed": false,
     "input": [],
     "language": "python",
     "metadata": {},
     "outputs": [],
     "prompt_number": 34
    },
    {
     "cell_type": "code",
     "collapsed": false,
     "input": [],
     "language": "python",
     "metadata": {},
     "outputs": []
    }
   ],
   "metadata": {}
  }
 ]
}