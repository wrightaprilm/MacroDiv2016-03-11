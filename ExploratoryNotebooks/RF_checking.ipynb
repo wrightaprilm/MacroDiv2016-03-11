{
 "cells": [
  {
   "cell_type": "code",
   "execution_count": 1,
   "metadata": {
    "collapsed": false
   },
   "outputs": [],
   "source": [
    "import dendropy\n",
    "from dendropy.calculate import treecompare\n",
    "import numpy as np"
   ]
  },
  {
   "cell_type": "code",
   "execution_count": 2,
   "metadata": {
    "collapsed": false
   },
   "outputs": [],
   "source": [
    "taxa = dendropy.TaxonNamespace()\n",
    "\n",
    "ours = dendropy.Tree.get_from_path('../Trees/Time-Scaled/Best.dated', 'newick', taxon_namespace=taxa)"
   ]
  },
  {
   "cell_type": "code",
   "execution_count": 3,
   "metadata": {
    "collapsed": false
   },
   "outputs": [
    {
     "name": "stdout",
     "output_type": "stream",
     "text": [
      "854\n"
     ]
    }
   ],
   "source": [
    "non_ml = dendropy.Tree.get_from_path('../Trees/Time-Scaled/PyronBurbrink2014.dated', 'newick', taxon_namespace = taxa)\n",
    "#non_ml.deroot()\n",
    "print treecompare.symmetric_difference(ours, non_ml)"
   ]
  },
  {
   "cell_type": "code",
   "execution_count": 64,
   "metadata": {
    "collapsed": false
   },
   "outputs": [],
   "source": [
    "print ours.is_rooted\n",
    "print non_ml.is_rooted"
   ]
  },
  {
   "cell_type": "code",
   "execution_count": 52,
   "metadata": {
    "collapsed": false
   },
   "outputs": [],
   "source": [
    "rfs = [tree.symmetric_difference(pb_o) for tree in uotrees]"
   ]
  },
  {
   "cell_type": "code",
   "execution_count": 8,
   "metadata": {
    "collapsed": false
   },
   "outputs": [],
   "source": [
    "rfs"
   ]
  },
  {
   "cell_type": "code",
   "execution_count": 3,
   "metadata": {
    "collapsed": false
   },
   "outputs": [],
   "source": [
    "olist = find_files(top='garli_opt/', filename_filter='*.tre')\n",
    "print olist"
   ]
  },
  {
   "cell_type": "code",
   "execution_count": null,
   "metadata": {
    "collapsed": false
   },
   "outputs": [],
   "source": [
    "otrees = [dendropy.Tree.get_from_path(filename, \"nexus\") for filename in olist]"
   ]
  },
  {
   "cell_type": "code",
   "execution_count": null,
   "metadata": {
    "collapsed": false
   },
   "outputs": [],
   "source": [
    "n = len(uotrees)\n",
    "udiffarray = np.zeros((n,n))\n",
    "\n",
    "for i, ele1 in enumerate(uotrees):\n",
    "    for j, ele2 in enumerate(uotrees):\n",
    "        if j >= i:\n",
    "            break # Since the matrix is symmetrical we don't need to\n",
    "                  # calculate everything\n",
    "        difference = ele1.symmetric_difference(ele2) \n",
    "        udiffarray[i, j] = difference\n",
    "        udiffarray[j, i] = difference"
   ]
  },
  {
   "cell_type": "code",
   "execution_count": null,
   "metadata": {
    "collapsed": false
   },
   "outputs": [],
   "source": [
    "diffarray"
   ]
  },
  {
   "cell_type": "code",
   "execution_count": 38,
   "metadata": {
    "collapsed": false
   },
   "outputs": [],
   "source": [
    "diffarray"
   ]
  },
  {
   "cell_type": "code",
   "execution_count": 36,
   "metadata": {
    "collapsed": false
   },
   "outputs": [],
   "source": [
    "o_tl = [tree.length() for tree in otrees]\n",
    "print o_tl"
   ]
  },
  {
   "cell_type": "code",
   "execution_count": 39,
   "metadata": {
    "collapsed": false
   },
   "outputs": [],
   "source": [
    "uo_tl = [mle.length() for mle in uotrees]\n",
    "print uo_tl"
   ]
  },
  {
   "cell_type": "code",
   "execution_count": null,
   "metadata": {
    "collapsed": false
   },
   "outputs": [],
   "source": []
  }
 ],
 "metadata": {
  "kernelspec": {
   "display_name": "Python 2",
   "language": "python",
   "name": "python2"
  },
  "language_info": {
   "codemirror_mode": {
    "name": "ipython",
    "version": 2
   },
   "file_extension": ".py",
   "mimetype": "text/x-python",
   "name": "python",
   "nbconvert_exporter": "python",
   "pygments_lexer": "ipython2",
   "version": "2.7.10"
  }
 },
 "nbformat": 4,
 "nbformat_minor": 0
}
