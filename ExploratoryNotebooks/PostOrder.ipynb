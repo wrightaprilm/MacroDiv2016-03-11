{
 "metadata": {
  "name": "",
  "signature": "sha256:95ac6ce567bdda1627a56277384ea7109631631d46044bddfbd4dbd8779ea348"
 },
 "nbformat": 3,
 "nbformat_minor": 0,
 "worksheets": [
  {
   "cells": [
    {
     "cell_type": "code",
     "collapsed": false,
     "input": [
      "import dendropy\n",
      "import pandas as pd"
     ],
     "language": "python",
     "metadata": {},
     "outputs": [],
     "prompt_number": 2
    },
    {
     "cell_type": "code",
     "collapsed": false,
     "input": [
      "data = pd.read_csv('../Data/PyronParityData.csv', index_col=0, header=False)"
     ],
     "language": "python",
     "metadata": {},
     "outputs": [],
     "prompt_number": 3
    },
    {
     "cell_type": "code",
     "collapsed": false,
     "input": [
      "taxa = dendropy.TaxonSet()\n",
      "mle = dendropy.Tree.get_from_path('../2598364_0', 'newick', taxon_set=taxa, preserve_underscores=True,extract_comment_metadata=True)\n"
     ],
     "language": "python",
     "metadata": {},
     "outputs": [],
     "prompt_number": 4
    },
    {
     "cell_type": "code",
     "collapsed": false,
     "input": [
      "for idx, nd in enumerate(mle.leaf_iter()):\n",
      "    if nd.label is None:\n",
      "        lookup = '{}'.format(nd.taxon)\n",
      "        nd.label = int(data.ix[lookup])\n",
      "    else: \n",
      "        pass"
     ],
     "language": "python",
     "metadata": {},
     "outputs": [],
     "prompt_number": 5
    },
    {
     "cell_type": "code",
     "collapsed": true,
     "input": [
      "origins = [] #changes to viviparity\n",
      "reversions = [] #reversions to oviparity\n",
      "total = [] #should equal 3951\n",
      "childs = []\n",
      "\n",
      "for index, node in enumerate(mle.postorder_node_iter()):\n",
      "    if node.parent_node is None:\n",
      "        pass\n",
      "    if float(node.label) == 0 or 1 > float(node.label) > .5:\n",
      "        total.append(node)\n",
      "        if node.parent_node is None:\n",
      "            pass\n",
      "        \n",
      "        elif float(node.parent_node.label) < 0.05:\n",
      "            reversions.append(node)\n",
      "            foci = node.parent_node\n",
      "            if foci.parent_node is None:\n",
      "                print 'root'\n",
      "        elif float(node.parent_node.label) > .5:\n",
      "             new_foci = node.parent_node \n",
      "             if new_foci.parent_node is None:\n",
      "                 pass\n",
      "             elif float(new_foci.parent_node.label) < 0.05:\n",
      "                 reversions.append(new_foci)\n",
      "        elif float(node.parent_node.label) > .05:\n",
      "             new_foci = node.parent_node \n",
      "             if new_foci.parent_node is None:\n",
      "                 pass\n",
      "             elif float(new_foci.parent_node.label) < 0.05:\n",
      "                 reversions.append(new_foci)                    \n",
      "\n",
      "print len(set(reversions)), 'reversions'\n",
      "print set(reversions)\n"
     ],
     "language": "python",
     "metadata": {},
     "outputs": [],
     "prompt_number": 6
    },
    {
     "cell_type": "code",
     "collapsed": true,
     "input": [
      "origins = [] #changes to viviparity\n",
      "\n",
      "for index, node in enumerate(mle.postorder_node_iter()):\n",
      "    if node.parent_node is None:\n",
      "        pass\n",
      "    if float(node.label) == 1 or 0 < float(node.label) < .05:\n",
      "        total.append(node)\n",
      "        if node.parent_node is None:\n",
      "            pass\n",
      "        \n",
      "        elif float(node.parent_node.label) > 0.95:\n",
      "            origins.append(node)\n",
      "            foci = node.parent_node\n",
      "            if foci.parent_node is None:\n",
      "                print 'root'\n",
      "        elif float(node.parent_node.label) > .5:\n",
      "             new_foci = node.parent_node \n",
      "             if new_foci.parent_node is None:\n",
      "                 pass\n",
      "             elif float(new_foci.parent_node.label) > 0.95:\n",
      "                 origins.append(new_foci)\n",
      "        elif float(node.parent_node.label) > .95:\n",
      "             new_foci = node.parent_node \n",
      "             if new_foci.parent_node is None:\n",
      "                 pass\n",
      "             elif float(new_foci.parent_node.label) > 0.95:\n",
      "                 origins.append(new_foci)                    \n",
      "\n",
      "print len(set(origins)), 'reversions'\n",
      "print set(origins)\n"
     ],
     "language": "python",
     "metadata": {},
     "outputs": [],
     "prompt_number": 34
    },
    {
     "cell_type": "code",
     "collapsed": false,
     "input": [
      "print len(childs)"
     ],
     "language": "python",
     "metadata": {},
     "outputs": [],
     "prompt_number": 32
    },
    {
     "cell_type": "code",
     "collapsed": false,
     "input": [],
     "language": "python",
     "metadata": {},
     "outputs": [],
     "prompt_number": 73
    },
    {
     "cell_type": "code",
     "collapsed": false,
     "input": [],
     "language": "python",
     "metadata": {},
     "outputs": []
    }
   ],
   "metadata": {}
  }
 ]
}